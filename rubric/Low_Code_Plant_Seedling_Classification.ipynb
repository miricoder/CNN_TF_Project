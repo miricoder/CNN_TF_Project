{
  "nbformat": 4,
  "nbformat_minor": 0,
  "metadata": {
    "colab": {
      "provenance": [],
      "collapsed_sections": [
        "_Fgd2jg4f0XH",
        "upANL8_-f2gy",
        "ZpUtbBsMf_9O",
        "EPrWNbdYgMQz",
        "qqFzmTb0BKKW",
        "W593kHe2Bfgp",
        "jD8EDTyvg6mD",
        "uE84hQU7CSZa",
        "Yylo78cvIteK",
        "EYv5uX-MC9KC",
        "ayS8yyFMhy9s",
        "tY8e2flvDup8",
        "o3DMS5DsiVRI",
        "pESDU0AEMOFk",
        "NQV0unTvM7XM",
        "FAJ9B0wKNiY3",
        "exJFCDSMNrEG",
        "d9_M19L-OLng",
        "kNKUalx8Jcoi",
        "zU6vqL67bd5a",
        "qRIwvHcxxl0g",
        "dvDkLMO7YIdY",
        "Eg2x8AyJ4oPR"
      ]
    },
    "kernelspec": {
      "name": "python3",
      "display_name": "Python 3"
    },
    "accelerator": "GPU"
  },
  "cells": [
    {
      "cell_type": "markdown",
      "source": [
        "# Introduction to Computer Vision: Plant Seedlings Classification"
      ],
      "metadata": {
        "id": "v9VXT5unCaBd"
      }
    },
    {
      "cell_type": "markdown",
      "source": [
        "## Problem Statement"
      ],
      "metadata": {
        "id": "_Fgd2jg4f0XH"
      }
    },
    {
      "cell_type": "markdown",
      "source": [
        "### Context"
      ],
      "metadata": {
        "id": "upANL8_-f2gy"
      }
    },
    {
      "cell_type": "markdown",
      "metadata": {
        "id": "WCxSmokWEKUJ"
      },
      "source": [
        "In recent times, the field of agriculture has been in urgent need of modernizing, since the amount of manual work people need to put in to check if plants are growing correctly is still highly extensive. Despite several advances in agricultural technology, people working in the agricultural industry still need to have the ability to sort and recognize different plants and weeds, which takes a lot of time and effort in the long term. The potential is ripe for this trillion-dollar industry to be greatly impacted by technological innovations that cut down on the requirement for manual labor, and this is where Artificial Intelligence can actually benefit the workers in this field, as **the time and energy required to identify plant seedlings will be greatly shortened by the use of AI and Deep Learning.** The ability to do so far more efficiently and even more effectively than experienced manual labor, could lead to better crop yields, the freeing up of human inolvement for higher-order agricultural decision making, and in the long term will result in more sustainable environmental practices in agriculture as well.\n"
      ]
    },
    {
      "cell_type": "markdown",
      "source": [
        "### Objective"
      ],
      "metadata": {
        "id": "ZpUtbBsMf_9O"
      }
    },
    {
      "cell_type": "markdown",
      "source": [
        "The aim of this project is to Build a Convolutional Neural Netowrk to classify plant seedlings into their respective categories."
      ],
      "metadata": {
        "id": "VGW0M77cgDtf"
      }
    },
    {
      "cell_type": "markdown",
      "source": [
        "### Data Dictionary"
      ],
      "metadata": {
        "id": "EPrWNbdYgMQz"
      }
    },
    {
      "cell_type": "markdown",
      "source": [
        "The Aarhus University Signal Processing group, in collaboration with the University of Southern Denmark, has recently released a dataset containing **images of unique plants belonging to 12 different species.**\n",
        "\n",
        "- The dataset can be download from Olympus.\n",
        "- The data file names are:\n",
        "    - images.npy\n",
        "    - Label.csv\n",
        "- Due to the large volume of data, the images were converted to the images.npy file and the labels are also put into Labels.csv, so that you can work on the data/project seamlessly without having to worry about the high data volume.\n",
        "\n",
        "- The goal of the project is to create a classifier capable of determining a plant's species from an image.\n",
        "\n",
        "**List of Species**\n",
        "\n",
        "- Black-grass\n",
        "- Charlock\n",
        "- Cleavers\n",
        "- Common Chickweed\n",
        "- Common Wheat\n",
        "- Fat Hen\n",
        "- Loose Silky-bent\n",
        "- Maize\n",
        "- Scentless Mayweed\n",
        "- Shepherds Purse\n",
        "- Small-flowered Cranesbill\n",
        "- Sugar beet"
      ],
      "metadata": {
        "id": "XI2Xb-WqgQSA"
      }
    },
    {
      "cell_type": "markdown",
      "source": [
        "####**Note: Please use GPU runtime to execute the code efficiently**"
      ],
      "metadata": {
        "id": "upC6c-WCVTZx"
      }
    },
    {
      "cell_type": "markdown",
      "source": [
        "## **Please read the instructions carefully before starting the project.**\n",
        "\n",
        "This is a commented Python Notebook file in which all the instructions and tasks to be performed are mentioned.\n",
        "\n",
        "* Blanks '_______' are provided in the notebook that need to be filled with an appropriate code to get the correct result\n",
        "\n",
        "* With every '_______' blank, there is a comment that briefly describes what needs to be filled in the blank space\n",
        "\n",
        "* Identify the task to be performed correctly and only then proceed to write the required code\n",
        "\n",
        "* Fill the code wherever asked by the commented lines like \"# write your code here\" or \"# complete the code\"\n",
        "\n",
        "* Running incomplete code may throw an error\n",
        "\n",
        "* Please run the codes in a sequential manner from the beginning to avoid any unnecessary errors\n",
        "\n",
        "* Add the results/observations derived from the analysis in the presentation and submit the same in .pdf format"
      ],
      "metadata": {
        "id": "tYjByoe294Jz"
      }
    },
    {
      "cell_type": "markdown",
      "metadata": {
        "id": "qqFzmTb0BKKW"
      },
      "source": [
        "## Importing necessary libraries"
      ]
    },
    {
      "cell_type": "code",
      "metadata": {
        "id": "lw8IuZwV-PAL"
      },
      "source": [
        "import os\n",
        "import numpy as np                                                                               # Importing numpy for Matrix Operations\n",
        "import pandas as pd                                                                              # Importing pandas to read CSV files\n",
        "import matplotlib.pyplot as plt                                                                  # Importting matplotlib for Plotting and visualizing images\n",
        "import math                                                                                      # Importing math module to perform mathematical operations\n",
        "import cv2                                                                                       # Importing openCV for image processing\n",
        "import seaborn as sns                                                                            # Importing seaborn to plot graphs\n",
        "\n",
        "\n",
        "# Tensorflow modules\n",
        "import tensorflow as tf\n",
        "from tensorflow.keras.preprocessing.image import ImageDataGenerator                              # Importing the ImageDataGenerator for data augmentation\n",
        "from tensorflow.keras.models import Sequential                                                   # Importing the sequential module to define a sequential model\n",
        "from tensorflow.keras.layers import Dense,Dropout,Flatten,Conv2D,MaxPooling2D,BatchNormalization # Defining all the layers to build our CNN Model\n",
        "from tensorflow.keras.optimizers import Adam,SGD                                                 # Importing the optimizers which can be used in our model\n",
        "from sklearn import preprocessing                                                                # Importing the preprocessing module to preprocess the data\n",
        "from sklearn.model_selection import train_test_split                                             # Importing train_test_split function to split the data into train and test\n",
        "from sklearn.metrics import confusion_matrix                                                     # Importing confusion_matrix to plot the confusion matrix\n",
        "from sklearn.preprocessing import LabelBinarizer\n",
        "# Display images using OpenCV\n",
        "from google.colab.patches import cv2_imshow                                                      # Importing cv2_imshow from google.patches to display images\n",
        "from sklearn.model_selection import train_test_split\n",
        "from tensorflow.keras import backend\n",
        "from keras.callbacks import ReduceLROnPlateau\n",
        "import random\n",
        "# Ignore warnings\n",
        "import warnings\n",
        "warnings.filterwarnings('ignore')"
      ],
      "execution_count": null,
      "outputs": []
    },
    {
      "cell_type": "markdown",
      "metadata": {
        "id": "W593kHe2Bfgp"
      },
      "source": [
        "## Loading the dataset"
      ]
    },
    {
      "cell_type": "code",
      "source": [
        "# Mount Google drive to access the dataset\n",
        "# Run the below code if you using google colab\n",
        "from google.colab import drive\n",
        "drive.mount('/content/drive')"
      ],
      "metadata": {
        "id": "hToRNfavI2Ks"
      },
      "execution_count": null,
      "outputs": []
    },
    {
      "cell_type": "code",
      "metadata": {
        "id": "c2q2QUVZtpFb"
      },
      "source": [
        "# Load the image file of dataset\n",
        "images = np.load('______')      # Complete the code to read the dataset\n",
        "\n",
        "# Load the labels file of dataset\n",
        "labels = pd.read_csv('______')  # Complete the code to read the dataset"
      ],
      "execution_count": null,
      "outputs": []
    },
    {
      "cell_type": "markdown",
      "source": [
        "## Data Overview"
      ],
      "metadata": {
        "id": "jD8EDTyvg6mD"
      }
    },
    {
      "cell_type": "markdown",
      "metadata": {
        "id": "uE84hQU7CSZa"
      },
      "source": [
        "### Understand the shape of the dataset"
      ]
    },
    {
      "cell_type": "code",
      "metadata": {
        "id": "2X1I66hDfg9j"
      },
      "source": [
        "print(______.shape)         # Complete the code to check the shape\n",
        "print(______.shape)         # Complete the code to check the shape"
      ],
      "execution_count": null,
      "outputs": []
    },
    {
      "cell_type": "markdown",
      "metadata": {
        "id": "EYv5uX-MC9KC"
      },
      "source": [
        "## Exploratory Data Analysis"
      ]
    },
    {
      "cell_type": "markdown",
      "source": [
        "### Plotting random images from each of the class"
      ],
      "metadata": {
        "id": "ayS8yyFMhy9s"
      }
    },
    {
      "cell_type": "code",
      "metadata": {
        "id": "ZxTvixIeBVIq"
      },
      "source": [
        "def plot_images(images,labels):\n",
        "  num_classes=10                                                                  # Number of Classes\n",
        "  categories=np.unique(labels)\n",
        "  keys=dict(labels['Label'])                                                      # Obtaing the unique classes from y_train\n",
        "  rows = 3                                                                        # Defining number of rows=3\n",
        "  cols = 4                                                                        # Defining number of columns=4\n",
        "  fig = plt.figure(figsize=(10, 8))                                               # Defining the figure size to 10x8\n",
        "  for i in range(cols):\n",
        "      for j in range(rows):\n",
        "          random_index = np.random.randint(0, len(labels))                        # Generating random indices from the data and plotting the images\n",
        "          ax = fig.add_subplot(rows, cols, i * rows + j + 1)                      # Adding subplots with 3 rows and 4 columns\n",
        "          ax.imshow(images[random_index, :])                                      # Plotting the image\n",
        "          ax.set_title(keys[random_index])\n",
        "  plt.show()"
      ],
      "execution_count": null,
      "outputs": []
    },
    {
      "cell_type": "code",
      "source": [
        "plot_images(______,______)   # Complete the code to input the images and labels to the function and plot the images with their labels"
      ],
      "metadata": {
        "id": "2FclzjwV9hhb"
      },
      "execution_count": null,
      "outputs": []
    },
    {
      "cell_type": "markdown",
      "metadata": {
        "id": "tY8e2flvDup8"
      },
      "source": [
        "### Checking the distribution of the target variable"
      ]
    },
    {
      "cell_type": "code",
      "metadata": {
        "id": "vZTqGtN8D65D"
      },
      "source": [
        "sns.countplot(x=labels['______'])            # Complete the code to check for data imbalance\n",
        "plt.xticks(rotation='vertical')"
      ],
      "execution_count": null,
      "outputs": []
    },
    {
      "cell_type": "markdown",
      "source": [
        "## Data Pre-Processing"
      ],
      "metadata": {
        "id": "o3DMS5DsiVRI"
      }
    },
    {
      "cell_type": "markdown",
      "source": [
        "### Converting the BGR images to RGB images."
      ],
      "metadata": {
        "id": "Yylo78cvIteK"
      }
    },
    {
      "cell_type": "code",
      "source": [
        "# Converting the images from BGR to RGB using cvtColor function of OpenCV\n",
        "for i in range(len(images)):\n",
        "  images[i] = cv2.cvtColor(images[i], cv2.______)        # Complete the code to convert the images from BGR to RGB"
      ],
      "metadata": {
        "id": "Tcc3Qjc0Iwkm"
      },
      "execution_count": null,
      "outputs": []
    },
    {
      "cell_type": "markdown",
      "source": [
        "### Resizing images"
      ],
      "metadata": {
        "id": "pESDU0AEMOFk"
      }
    },
    {
      "cell_type": "markdown",
      "source": [
        "As the size of the images is large, it may be computationally expensive to train on these larger images; therefore, it is preferable to reduce the image size from 128 to 64."
      ],
      "metadata": {
        "id": "OZZWiGxYjqEr"
      }
    },
    {
      "cell_type": "code",
      "source": [
        "images_decreased=[]\n",
        "height = ______                    # Complete the code to define the height as 64\n",
        "width =  ______                    # Complete the code to define the width as 64\n",
        "dimensions = (width, height)\n",
        "for i in range(len(images)):\n",
        "  images_decreased.append( cv2.resize(images[i], dimensions, interpolation=cv2.INTER_LINEAR))"
      ],
      "metadata": {
        "id": "yxhwEp-5MPqv"
      },
      "execution_count": null,
      "outputs": []
    },
    {
      "cell_type": "markdown",
      "source": [
        "**Image before resizing**"
      ],
      "metadata": {
        "id": "0nxKa__ey4pO"
      }
    },
    {
      "cell_type": "code",
      "source": [
        "plt.imshow(images[3])"
      ],
      "metadata": {
        "id": "cecdOnS0jELh"
      },
      "execution_count": null,
      "outputs": []
    },
    {
      "cell_type": "markdown",
      "source": [
        "**Image after resizing**"
      ],
      "metadata": {
        "id": "kSCa_tD-yyB2"
      }
    },
    {
      "cell_type": "code",
      "source": [
        "plt.imshow(images_decreased[3])"
      ],
      "metadata": {
        "id": "FuEqXWMUMV_h"
      },
      "execution_count": null,
      "outputs": []
    },
    {
      "cell_type": "markdown",
      "source": [
        "### Data Preparation for Modeling\n"
      ],
      "metadata": {
        "id": "NQV0unTvM7XM"
      }
    },
    {
      "cell_type": "markdown",
      "source": [
        "- As we have less images in our dataset, we will only use 10% of our data for testing, 10% of our data for validation and 80% of our data for training.\n",
        "- We are using the train_test_split() function from scikit-learn. Here, we split the dataset into three parts, train,test and validation."
      ],
      "metadata": {
        "id": "zSWqyc2KjtUz"
      }
    },
    {
      "cell_type": "code",
      "source": [
        "X_temp, X_test, y_temp, y_test = train_test_split(np.array(images_decreased),______ , test_size=______, random_state=42,stratify=labels)   # Complete the code to split the data with test_size as 0.1\n",
        "X_train, X_val, y_train, y_val = train_test_split(______,______ , test_size=______, random_state=42,stratify=y_temp)                       # Complete the code to split the data with test_size as 0.1"
      ],
      "metadata": {
        "id": "K1iq7Nm5M6QT"
      },
      "execution_count": null,
      "outputs": []
    },
    {
      "cell_type": "code",
      "source": [
        "# Complete the code to check the shape of train, validation and test data\n",
        "print(______.shape,y_train.shape)\n",
        "print(X_val.shape,______.shape)\n",
        "print(______.shape,y_test.shape)"
      ],
      "metadata": {
        "id": "8skQ0ZX-Nb7N"
      },
      "execution_count": null,
      "outputs": []
    },
    {
      "cell_type": "markdown",
      "source": [
        "### Encoding the target labels"
      ],
      "metadata": {
        "id": "FAJ9B0wKNiY3"
      }
    },
    {
      "cell_type": "code",
      "metadata": {
        "id": "88OIAwNoEPfx"
      },
      "source": [
        "# Convert labels from names to one hot vectors.\n",
        "# We have already used encoding methods like onehotencoder and labelencoder earlier so now we will be using a new encoding method called labelBinarizer.\n",
        "# Labelbinarizer works similar to onehotencoder\n",
        "\n",
        "enc = ______                                        # Complete the code to intialize the labelBinarizer\n",
        "y_train_encoded = enc.fit_transform(______)        # Complete the code to fit and transform y_train\n",
        "y_val_encoded=enc.transform(______)                  # Complete the code to transform y_val\n",
        "y_test_encoded=enc.transform(______)                # Complete the code to transform y_test"
      ],
      "execution_count": null,
      "outputs": []
    },
    {
      "cell_type": "code",
      "metadata": {
        "id": "_owIjVzeEMol"
      },
      "source": [
        "y_train_encoded.shape,______.shape,______.shape    # Complete the code to check the shape of train, validation and test data"
      ],
      "execution_count": null,
      "outputs": []
    },
    {
      "cell_type": "markdown",
      "source": [
        "### Data Normalization"
      ],
      "metadata": {
        "id": "exJFCDSMNrEG"
      }
    },
    {
      "cell_type": "markdown",
      "source": [
        "Since the **image pixel values range from 0-255**, our method of normalization here will be **scaling** - we shall **divide all the pixel values by 255 to standardize the images to have values between 0-1.**"
      ],
      "metadata": {
        "id": "wANBL_cOj86C"
      }
    },
    {
      "cell_type": "code",
      "source": [
        "# Complete the code to normalize the image pixels of train, test and validation data\n",
        "X_train_normalized = ______.astype('float32')/255.0\n",
        "X_val_normalized = X_val.astype('float32')/______\n",
        "X_test_normalized = ______.astype('float32')/255.0"
      ],
      "metadata": {
        "id": "jVUuPJS9OB_U"
      },
      "execution_count": null,
      "outputs": []
    },
    {
      "cell_type": "markdown",
      "source": [
        "## Model Building"
      ],
      "metadata": {
        "id": "d9_M19L-OLng"
      }
    },
    {
      "cell_type": "code",
      "source": [
        "# Clearing backend\n",
        "backend.clear_session()"
      ],
      "metadata": {
        "id": "Ze1uI-R1ObD8"
      },
      "execution_count": null,
      "outputs": []
    },
    {
      "cell_type": "code",
      "source": [
        "# Fixing the seed for random number generators\n",
        "np.random.seed(42)\n",
        "random.seed(42)\n",
        "tf.random.set_seed(42)"
      ],
      "metadata": {
        "id": "RIuK82kSOc0Z"
      },
      "execution_count": null,
      "outputs": []
    },
    {
      "cell_type": "code",
      "source": [
        "# Intializing a sequential model\n",
        "model1 = ______                             # Complete the code to intialize a sequential model\n",
        "\n",
        "# Complete the code to add the first conv layer with 128 filters and kernel size 3x3 , padding 'same' provides the output size same as the input size\n",
        "# Input_shape denotes input image dimension of images\n",
        "model1.add(Conv2D(______, (3, 3), activation='______', padding=\"same\", input_shape=(64, 64, 3)))\n",
        "\n",
        "# Complete the code to add the max pooling to reduce the size of output of first conv layer\n",
        "model1.add(______((2, 2), padding = 'same'))\n",
        "\n",
        "# Complete the code to create two similar convolution and max-pooling layers activation = relu\n",
        "model1.add(Conv2D(64, (3, 3), activation='______', padding=\"same\"))\n",
        "model1.add(______((2, 2), padding = 'same'))\n",
        "\n",
        "model1.add(Conv2D(32, (3, 3), activation='relu', padding=\"same\"))\n",
        "model1.add(MaxPooling2D((2, 2), padding = 'same'))\n",
        "\n",
        "# Complete the code to flatten the output of the conv layer after max pooling to make it ready for creating dense connections\n",
        "model1.add(______())\n",
        "\n",
        "# Complete the code to add a fully connected dense layer with 16 neurons\n",
        "model1.add(Dense(______, activation='relu'))\n",
        "model1.add(Dropout(0.3))\n",
        "# Complete the code to add the output layer with 12 neurons and activation functions as softmax since this is a multi-class classification problem\n",
        "model1.add(Dense(______, activation='softmax'))\n",
        "\n",
        "# Complete the code to use the Adam Optimizer\n",
        "opt=Adam()\n",
        "# Complete the code to Compile the model using suitable metric for loss fucntion\n",
        "model1.compile(optimizer=______, loss='______', metrics=['accuracy'])\n",
        "\n",
        "# Complete the code to generate the summary of the model\n",
        "model1.______()"
      ],
      "metadata": {
        "id": "FpFh02ziOcAy"
      },
      "execution_count": null,
      "outputs": []
    },
    {
      "cell_type": "markdown",
      "source": [
        "<b> Fitting the model on the train data"
      ],
      "metadata": {
        "id": "aeh0rJrYO7Cb"
      }
    },
    {
      "cell_type": "code",
      "metadata": {
        "id": "uSYgFjSfFZrS"
      },
      "source": [
        "# Complete the code to fit the model on train and also using the validation data for validation\n",
        "history_1 = model1.fit(\n",
        "            ______, ______,\n",
        "            epochs=30,\n",
        "            validation_data=(X_val_normalized,y_val_encoded),\n",
        "            batch_size=32,\n",
        "            verbose=2\n",
        ")"
      ],
      "execution_count": null,
      "outputs": []
    },
    {
      "cell_type": "markdown",
      "source": [
        "**Model Evaluation**"
      ],
      "metadata": {
        "id": "QJner8d_WYBy"
      }
    },
    {
      "cell_type": "code",
      "source": [
        "plt.plot(history_1.history['accuracy'])\n",
        "plt.plot(history_1.history['val_accuracy'])\n",
        "plt.title('Model Accuracy')\n",
        "plt.ylabel('Accuracy')\n",
        "plt.xlabel('Epoch')\n",
        "plt.legend(['Train', 'Validation'], loc='upper left')\n",
        "plt.show()"
      ],
      "metadata": {
        "id": "Wa8e-zpRWVyZ"
      },
      "execution_count": null,
      "outputs": []
    },
    {
      "cell_type": "markdown",
      "source": [
        "**Evaluate the model on test data**"
      ],
      "metadata": {
        "id": "OkAhnIyqWqeM"
      }
    },
    {
      "cell_type": "code",
      "metadata": {
        "id": "wrdX25VOyhQ-"
      },
      "source": [
        "accuracy = model1.evaluate(______, ______, verbose=2)    # Complete the code to evaluate the model on test data"
      ],
      "execution_count": null,
      "outputs": []
    },
    {
      "cell_type": "markdown",
      "source": [
        "**Plotting the Confusion Matrix**"
      ],
      "metadata": {
        "id": "z4fiOuFyxVS3"
      }
    },
    {
      "cell_type": "code",
      "source": [
        "# Here we would get the output as probablities for each category\n",
        "y_pred=model1.predict(______)                          # Complete the code to predict the output probabilities"
      ],
      "metadata": {
        "id": "Lfy2ylNK7Zi_"
      },
      "execution_count": null,
      "outputs": []
    },
    {
      "cell_type": "code",
      "source": [
        "# Obtaining the categorical values from y_test_encoded and y_pred\n",
        "y_pred_arg=np.argmax(y_pred,axis=1)\n",
        "y_test_arg=np.argmax(y_test_encoded,axis=1)\n",
        "\n",
        "# Plotting the Confusion Matrix using confusion matrix() function which is also predefined in tensorflow module\n",
        "confusion_matrix = tf.math.confusion_matrix(______,______)              # Complete the code to plot the confusion matrix\n",
        "f, ax = plt.subplots(figsize=(12, 12))\n",
        "sns.heatmap(\n",
        "    confusion_matrix,\n",
        "    annot=True,\n",
        "    linewidths=.4,\n",
        "    fmt=\"d\",\n",
        "    square=True,\n",
        "    ax=ax\n",
        ")\n",
        "# Setting the labels to both the axes\n",
        "ax.set_xlabel('Predicted labels');ax.set_ylabel('True labels');\n",
        "ax.set_title('Confusion Matrix');\n",
        "ax.xaxis.set_ticklabels(list(enc.classes_),rotation=40)\n",
        "ax.yaxis.set_ticklabels(list(enc.classes_),rotation=20)\n",
        "plt.show()"
      ],
      "metadata": {
        "id": "zbH18RpBdgLc"
      },
      "execution_count": null,
      "outputs": []
    },
    {
      "cell_type": "markdown",
      "source": [
        "**Plotting Classification Report**"
      ],
      "metadata": {
        "id": "zpiettxXX3X1"
      }
    },
    {
      "cell_type": "code",
      "source": [
        "# Plotting the classification report\n",
        "cr=metrics.classification_report(_______,_______)     # Complete the code to plot the classification report\n",
        "print(cr)"
      ],
      "metadata": {
        "id": "HxnM4HJOX2qi"
      },
      "execution_count": null,
      "outputs": []
    },
    {
      "cell_type": "markdown",
      "metadata": {
        "id": "kNKUalx8Jcoi"
      },
      "source": [
        "## Model Performance Improvement"
      ]
    },
    {
      "cell_type": "markdown",
      "source": [
        "**Reducing the Learning Rate:**\n",
        "\n",
        "**ReduceLRonPlateau()** is a function that will be used to decrease the learning rate by some factor, if the loss is not decreasing for some time. This may start decreasing the loss at a smaller learning rate. There is a possibility that the loss may still not decrease. This may lead to executing the learning rate reduction again in an attempt to achieve a lower loss."
      ],
      "metadata": {
        "id": "GqWaiX1wf41q"
      }
    },
    {
      "cell_type": "code",
      "metadata": {
        "id": "mlRncTSBTtj5"
      },
      "source": [
        "# Code to monitor val_accuracy\n",
        "learning_rate_reduction = ReduceLROnPlateau(monitor='val_accuracy',\n",
        "                                            patience=3,\n",
        "                                            verbose=1,\n",
        "                                            factor=0.5,\n",
        "                                            min_lr=0.00001)\n"
      ],
      "execution_count": null,
      "outputs": []
    },
    {
      "cell_type": "markdown",
      "metadata": {
        "id": "zU6vqL67bd5a"
      },
      "source": [
        "### **Data Augmentation**"
      ]
    },
    {
      "cell_type": "code",
      "metadata": {
        "id": "lcyB5b4QTeLz"
      },
      "source": [
        "# Clearing backend\n",
        "from tensorflow.keras import backend\n",
        "backend.clear_session()\n",
        "\n",
        "# Fixing the seed for random number generators\n",
        "import random\n",
        "np.random.seed(42)\n",
        "random.seed(42)\n",
        "tf.random.set_seed(42)"
      ],
      "execution_count": null,
      "outputs": []
    },
    {
      "cell_type": "code",
      "source": [
        "# Complete the code to set the rotation_range to 20\n",
        "train_datagen = ImageDataGenerator(\n",
        "                              rotation_range=20,\n",
        "                              fill_mode='nearest'\n",
        "                              )"
      ],
      "metadata": {
        "id": "PC2Vb1Vph3Cq"
      },
      "execution_count": null,
      "outputs": []
    },
    {
      "cell_type": "code",
      "source": [
        "# Intializing a sequential model\n",
        "model2 = Sequential()\n",
        "\n",
        "# Complete the code to add the first conv layer with 64 filters and kernel size 3x3 , padding 'same' provides the output size same as the input size\n",
        "# Input_shape denotes input image dimension images\n",
        "model2.add(______(64, (______, ______), activation='relu', padding=\"same\", input_shape=(64, 64, 3)))\n",
        "\n",
        "# Complete the code to add max pooling to reduce the size of output of first conv layer\n",
        "model2.add(______((2, 2), padding = 'same'))\n",
        "\n",
        "\n",
        "model2.add(Conv2D(32, (3, 3), activation='relu', padding=\"same\"))\n",
        "model2.add(MaxPooling2D((2, 2), padding = 'same'))\n",
        "model2.add(BatchNormalization())\n",
        "\n",
        "# flattening the output of the conv layer after max pooling to make it ready for creating dense connections\n",
        "model2.add(Flatten())\n",
        "\n",
        "# Adding a fully connected dense layer with 16 neurons\n",
        "model2.add(Dense(16, activation='relu'))\n",
        "\n",
        "# Complete the code to add dropout with dropout_rate=0.3\n",
        "model2.add(Dropout(______))\n",
        "# Complete the code to add the output layer with 12 neurons and activation functions as softmax since this is a multi-class classification problem\n",
        "model2.add(Dense(12, activation='______'))\n",
        "\n",
        "# Complete the code to initialize Adam Optimimzer\n",
        "opt=______\n",
        "# Complete the code to Compile model\n",
        "model2.compile(optimizer=opt, loss='categorical_crossentropy', metrics=['accuracy'])\n",
        "\n",
        "# Generating the summary of the model\n",
        "model2.______()"
      ],
      "metadata": {
        "id": "r-oolHyJh6Wp"
      },
      "execution_count": null,
      "outputs": []
    },
    {
      "cell_type": "markdown",
      "source": [
        "<b> Fitting the model on the train data"
      ],
      "metadata": {
        "id": "E6pmFAu1nFvK"
      }
    },
    {
      "cell_type": "code",
      "metadata": {
        "id": "ChUJ8eeKYbNj"
      },
      "source": [
        "# Complete the code to fit the model on train data with batch_size=64 and epochs=30\n",
        "# Epochs\n",
        "epochs = ______\n",
        "# Batch size\n",
        "batch_size = ______\n",
        "\n",
        "history = model2.fit(train_datagen.flow(______,y_train_encoded,\n",
        "                                       batch_size=batch_size,\n",
        "                                       shuffle=False),\n",
        "                                       epochs=epochs,\n",
        "                                       steps_per_epoch=X_train_normalized.shape[0] // batch_size,\n",
        "                                       validation_data=(X_val_normalized,y_val_encoded),\n",
        "                                       verbose=1,callbacks=[learning_rate_reduction])"
      ],
      "execution_count": null,
      "outputs": []
    },
    {
      "cell_type": "markdown",
      "source": [
        "**Model Evaluation**"
      ],
      "metadata": {
        "id": "bt5e3T5vnPdn"
      }
    },
    {
      "cell_type": "code",
      "source": [
        "plt.plot(history.history['accuracy'])\n",
        "plt.plot(history.history['val_accuracy'])\n",
        "plt.title('Model Accuracy')\n",
        "plt.ylabel('Accuracy')\n",
        "plt.xlabel('Epoch')\n",
        "plt.legend(['Train', 'Validation'], loc='upper left')\n",
        "plt.show()"
      ],
      "metadata": {
        "id": "vHiqcKS9zsK1"
      },
      "execution_count": null,
      "outputs": []
    },
    {
      "cell_type": "markdown",
      "source": [
        "**Evaluate the model on test data**"
      ],
      "metadata": {
        "id": "Mc1-VJF6nUqe"
      }
    },
    {
      "cell_type": "code",
      "source": [
        "accuracy = model2.evaluate(______, y_test_encoded, verbose=2)  # Complete the code to evaluate the model on test data"
      ],
      "metadata": {
        "id": "sQQWGjwhzuQR"
      },
      "execution_count": null,
      "outputs": []
    },
    {
      "cell_type": "markdown",
      "source": [
        "**Plotting the Confusion Matrix**"
      ],
      "metadata": {
        "id": "MHmS8i-Wnenu"
      }
    },
    {
      "cell_type": "code",
      "metadata": {
        "id": "RVGeFvZYYP2N"
      },
      "source": [
        "# Complete the code to obtain the output probabilities\n",
        "y_pred=model2.predict(______)"
      ],
      "execution_count": null,
      "outputs": []
    },
    {
      "cell_type": "code",
      "source": [
        "# Obtaining the categorical values from y_test_encoded and y_pred\n",
        "y_pred_arg=np.argmax(y_pred,axis=1)\n",
        "y_test_arg=np.argmax(y_test_encoded,axis=1)\n",
        "\n",
        "# Plotting the Confusion Matrix using confusion matrix() function which is also predefined in tensorflow module\n",
        "confusion_matrix = tf.math.confusion_matrix(______,y_pred_arg)     # Complete the code to obatin the confusion matrix\n",
        "f, ax = plt.subplots(figsize=(12, 12))\n",
        "sns.heatmap(\n",
        "    confusion_matrix,\n",
        "    annot=True,\n",
        "    linewidths=.4,\n",
        "    fmt=\"d\",\n",
        "    square=True,\n",
        "    ax=ax\n",
        ")\n",
        "# Setting the labels to both the axes\n",
        "ax.set_xlabel('Predicted labels');ax.set_ylabel('True labels');\n",
        "ax.set_title('Confusion Matrix');\n",
        "ax.xaxis.set_ticklabels(list(enc.classes_),rotation=40)\n",
        "ax.yaxis.set_ticklabels(list(enc.classes_),rotation=20)\n",
        "plt.show()"
      ],
      "metadata": {
        "id": "JX5vAeYCz7qF"
      },
      "execution_count": null,
      "outputs": []
    },
    {
      "cell_type": "markdown",
      "source": [
        "**Plotting Classification Report**"
      ],
      "metadata": {
        "id": "z8rMLLEpnmp2"
      }
    },
    {
      "cell_type": "code",
      "source": [
        "# Plotting the classification report\n",
        "cr=metrics.classification_report(_______,_______)     # Complete the code to plot the classification report\n",
        "print(cr)"
      ],
      "metadata": {
        "id": "CPNYbOmTYgI-"
      },
      "execution_count": null,
      "outputs": []
    },
    {
      "cell_type": "markdown",
      "source": [
        "## Final Model"
      ],
      "metadata": {
        "id": "qRIwvHcxxl0g"
      }
    },
    {
      "cell_type": "markdown",
      "source": [
        "Comment on the final model you have selected and use the same in the below code to visualize the image."
      ],
      "metadata": {
        "id": "S-LMkGcExnJd"
      }
    },
    {
      "cell_type": "markdown",
      "metadata": {
        "id": "dvDkLMO7YIdY"
      },
      "source": [
        "### Visualizing the prediction"
      ]
    },
    {
      "cell_type": "code",
      "metadata": {
        "id": "8IMupJqCDlWR"
      },
      "source": [
        "\n",
        "# Visualizing the predicted and correct label of images from test data\n",
        "plt.figure(figsize=(2,2))\n",
        "plt.imshow(X_test[2])\n",
        "plt.show()\n",
        "## Complete the code to predict the test data using the final model selected\n",
        "print('Predicted Label', enc.inverse_transform(_____.predict((X_test_normalized[2].reshape(1,64,64,3)))))   # reshaping the input image as we are only trying to predict using a single image\n",
        "print('True Label', enc.inverse_transform(y_test_encoded)[2])                                               # using inverse_transform() to get the output label from the output vector\n",
        "\n",
        "plt.figure(figsize=(2,2))\n",
        "plt.imshow(X_test[33])\n",
        "plt.show()\n",
        "## Complete the code to predict the test data using the final model selected\n",
        "print('Predicted Label', enc.inverse_transform(_______.predict((X_test_normalized[33].reshape(1,64,64,3)))))  # reshaping the input image as we are only trying to predict using a single image\n",
        "print('True Label', enc.inverse_transform(y_test_encoded)[33])                                              # using inverse_transform() to get the output label from the output vector\n",
        "\n",
        "plt.figure(figsize=(2,2))\n",
        "plt.imshow(X_test[59],)\n",
        "plt.show()\n",
        "## Complete the code to predict the test data using the final model selected\n",
        "print('Predicted Label', enc.inverse_transform(________.predict((X_test_normalized[59].reshape(1,64,64,3)))))  # reshaping the input image as we are only trying to predict using a single image\n",
        "print('True Label', enc.inverse_transform(y_test_encoded)[59])                                              # using inverse_transform() to get the output label from the output vector\n",
        "\n",
        "plt.figure(figsize=(2,2))\n",
        "plt.imshow(X_test[36])\n",
        "plt.show()\n",
        "## Complete the code to predict the test data using the final model selected\n",
        "print('Predicted Label', enc.inverse_transform(______.predict((X_test_normalized[36].reshape(1,64,64,3)))))  # reshaping the input image as we are only trying to predict using a single image\n",
        "print('True Label', enc.inverse_transform(y_test_encoded)[36])                                              # using inverse_transform() to get the output label from the output vector"
      ],
      "execution_count": null,
      "outputs": []
    },
    {
      "cell_type": "markdown",
      "source": [
        "## Actionable Insights and Business Recommendations"
      ],
      "metadata": {
        "id": "Eg2x8AyJ4oPR"
      }
    },
    {
      "cell_type": "markdown",
      "source": [
        "*"
      ],
      "metadata": {
        "id": "PMu_Wnk5yJsO"
      }
    },
    {
      "cell_type": "markdown",
      "source": [
        "_____"
      ],
      "metadata": {
        "id": "pEVFnHXtyMJa"
      }
    }
  ]
}