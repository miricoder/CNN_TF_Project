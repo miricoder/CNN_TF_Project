{
  "nbformat": 4,
  "nbformat_minor": 0,
  "metadata": {
    "colab": {
      "provenance": [],
      "collapsed_sections": [
        "4ZgcS1MyVGZp",
        "WCxSmokWEKUJ",
        "q_I9gQJMVWL_",
        "aZq8uFtOVfnm",
        "qqFzmTb0BKKW",
        "oq-hAEOAV4aZ",
        "uE84hQU7CSZa",
        "57vwo75fcXbU",
        "EYv5uX-MC9KC",
        "vOvazq-OWpNB",
        "hzpcKHaDWsG7",
        "STMonBqiWxM5",
        "LdsVQb4umB0P",
        "FAJ9B0wKNiY3",
        "exJFCDSMNrEG",
        "d9_M19L-OLng",
        "kNKUalx8Jcoi",
        "A5cgkAz_YKcc",
        "Eg2x8AyJ4oPR"
      ]
    },
    "kernelspec": {
      "name": "python3",
      "display_name": "Python 3"
    },
    "accelerator": "GPU"
  },
  "cells": [
    {
      "cell_type": "markdown",
      "source": [
        "# Introduction to Computer Vision: Plant Seedlings Classification"
      ],
      "metadata": {
        "id": "v9VXT5unCaBd"
      }
    },
    {
      "cell_type": "markdown",
      "source": [
        "## Problem Statement"
      ],
      "metadata": {
        "id": "4ZgcS1MyVGZp"
      }
    },
    {
      "cell_type": "markdown",
      "metadata": {
        "id": "WCxSmokWEKUJ"
      },
      "source": [
        "### Context"
      ]
    },
    {
      "cell_type": "markdown",
      "source": [
        "In recent times, the field of agriculture has been in urgent need of modernizing, since the amount of manual work people need to put in to check if plants are growing correctly is still highly extensive. Despite several advances in agricultural technology, people working in the agricultural industry still need to have the ability to sort and recognize different plants and weeds, which takes a lot of time and effort in the long term. The potential is ripe for this trillion-dollar industry to be greatly impacted by technological innovations that cut down on the requirement for manual labor, and this is where Artificial Intelligence can actually benefit the workers in this field, as **the time and energy required to identify plant seedlings will be greatly shortened by the use of AI and Deep Learning.** The ability to do so far more efficiently and even more effectively than experienced manual labor, could lead to better crop yields, the freeing up of human inolvement for higher-order agricultural decision making, and in the long term will result in more sustainable environmental practices in agriculture as well.\n"
      ],
      "metadata": {
        "id": "-2mC12JhVNGp"
      }
    },
    {
      "cell_type": "markdown",
      "source": [
        "### Objective"
      ],
      "metadata": {
        "id": "q_I9gQJMVWL_"
      }
    },
    {
      "cell_type": "markdown",
      "source": [
        "The aim of this project is to Build a Convolutional Neural Netowrk to classify plant seedlings into their respective categories."
      ],
      "metadata": {
        "id": "ZkD5j4o4VYYQ"
      }
    },
    {
      "cell_type": "markdown",
      "source": [
        "### Data Dictionary"
      ],
      "metadata": {
        "id": "aZq8uFtOVfnm"
      }
    },
    {
      "cell_type": "markdown",
      "source": [
        "The Aarhus University Signal Processing group, in collaboration with the University of Southern Denmark, has recently released a dataset containing **images of unique plants belonging to 12 different species.**\n",
        "\n",
        "- The dataset can be download from Olympus.\n",
        "- The data file names are:\n",
        "    - images.npy\n",
        "    - Label.csv\n",
        "- Due to the large volume of data, the images were converted to the images.npy file and the labels are also put into Labels.csv, so that you can work on the data/project seamlessly without having to worry about the high data volume.\n",
        "\n",
        "- The goal of the project is to create a classifier capable of determining a plant's species from an image.\n",
        "\n",
        "**List of Species**\n",
        "\n",
        "- Black-grass\n",
        "- Charlock\n",
        "- Cleavers\n",
        "- Common Chickweed\n",
        "- Common Wheat\n",
        "- Fat Hen\n",
        "- Loose Silky-bent\n",
        "- Maize\n",
        "- Scentless Mayweed\n",
        "- Shepherds Purse\n",
        "- Small-flowered Cranesbill\n",
        "- Sugar beet"
      ],
      "metadata": {
        "id": "75fTG3prVjUU"
      }
    },
    {
      "cell_type": "markdown",
      "source": [
        "####**Note: Please use GPU runtime to execute the code efficiently**"
      ],
      "metadata": {
        "id": "d9B4COveVqnm"
      }
    },
    {
      "cell_type": "markdown",
      "metadata": {
        "id": "qqFzmTb0BKKW"
      },
      "source": [
        "## Importing necessary libraries"
      ]
    },
    {
      "cell_type": "code",
      "metadata": {
        "id": "lw8IuZwV-PAL"
      },
      "source": [],
      "execution_count": null,
      "outputs": []
    },
    {
      "cell_type": "markdown",
      "source": [
        "## Loading the dataset"
      ],
      "metadata": {
        "id": "oq-hAEOAV4aZ"
      }
    },
    {
      "cell_type": "code",
      "source": [
        "# Mount Google drive to access the dataset\n",
        "# Run the below code if you using google colab\n",
        "from google.colab import drive\n",
        "drive.mount('/content/drive')"
      ],
      "metadata": {
        "id": "1XztFCIActAb"
      },
      "execution_count": null,
      "outputs": []
    },
    {
      "cell_type": "code",
      "metadata": {
        "id": "c2q2QUVZtpFb"
      },
      "source": [],
      "execution_count": null,
      "outputs": []
    },
    {
      "cell_type": "markdown",
      "metadata": {
        "id": "uE84hQU7CSZa"
      },
      "source": [
        "## Data Overview"
      ]
    },
    {
      "cell_type": "markdown",
      "source": [
        "### Understand the shape of the dataset"
      ],
      "metadata": {
        "id": "57vwo75fcXbU"
      }
    },
    {
      "cell_type": "code",
      "source": [],
      "metadata": {
        "id": "S2F57JGGcbzz"
      },
      "execution_count": null,
      "outputs": []
    },
    {
      "cell_type": "markdown",
      "metadata": {
        "id": "EYv5uX-MC9KC"
      },
      "source": [
        "## Exploratory Data Analysis"
      ]
    },
    {
      "cell_type": "markdown",
      "source": [
        "- EDA is an important part of any project involving data.\n",
        "- It is important to investigate and understand the data better before building a model with it.\n",
        "- A few questions have been mentioned below which will help you understand the data better.\n",
        "- A thorough analysis of the data, in addition to the questions mentioned below, should be done."
      ],
      "metadata": {
        "id": "Vf_sWYNOjDvK"
      }
    },
    {
      "cell_type": "markdown",
      "source": [
        "1. How are these different category plant images different from each other?\n",
        "2. Is the dataset provided an imbalance? (Check with using bar plots)"
      ],
      "metadata": {
        "id": "F4dZsdgujrtK"
      }
    },
    {
      "cell_type": "code",
      "metadata": {
        "id": "ZxTvixIeBVIq"
      },
      "source": [],
      "execution_count": null,
      "outputs": []
    },
    {
      "cell_type": "markdown",
      "source": [
        "## Data Pre-Processing"
      ],
      "metadata": {
        "id": "vOvazq-OWpNB"
      }
    },
    {
      "cell_type": "markdown",
      "source": [
        "### Convert the BGR images to RGB images."
      ],
      "metadata": {
        "id": "hzpcKHaDWsG7"
      }
    },
    {
      "cell_type": "code",
      "source": [],
      "metadata": {
        "id": "U9u82V2TWsuQ"
      },
      "execution_count": null,
      "outputs": []
    },
    {
      "cell_type": "markdown",
      "source": [
        "### Resize the images"
      ],
      "metadata": {
        "id": "STMonBqiWxM5"
      }
    },
    {
      "cell_type": "markdown",
      "source": [
        "As the size of the images is large, it may be computationally expensive to train on these larger images; therefore, it is preferable to reduce the image size from 128 to 64."
      ],
      "metadata": {
        "id": "pESDU0AEMOFk"
      }
    },
    {
      "cell_type": "code",
      "source": [],
      "metadata": {
        "id": "kJYZ4IpGkwre"
      },
      "execution_count": null,
      "outputs": []
    },
    {
      "cell_type": "markdown",
      "source": [
        "### Data Preparation for Modeling"
      ],
      "metadata": {
        "id": "LdsVQb4umB0P"
      }
    },
    {
      "cell_type": "markdown",
      "source": [
        "- Before you proceed to build a model, you need to split the data into train, test, and validation to be able to evaluate the model that you build on the train data\n",
        "- You'll have to encode categorical features and scale the pixel values.\n",
        "- You will build a model using the train data and then check its performance"
      ],
      "metadata": {
        "id": "KljdsjFCmJIZ"
      }
    },
    {
      "cell_type": "markdown",
      "source": [
        "**Split the dataset**"
      ],
      "metadata": {
        "id": "NQV0unTvM7XM"
      }
    },
    {
      "cell_type": "code",
      "source": [],
      "metadata": {
        "id": "USifnEb_m85i"
      },
      "execution_count": null,
      "outputs": []
    },
    {
      "cell_type": "markdown",
      "source": [
        "### Encode the target labels"
      ],
      "metadata": {
        "id": "FAJ9B0wKNiY3"
      }
    },
    {
      "cell_type": "code",
      "metadata": {
        "id": "88OIAwNoEPfx"
      },
      "source": [],
      "execution_count": null,
      "outputs": []
    },
    {
      "cell_type": "markdown",
      "source": [
        "### Data Normalization"
      ],
      "metadata": {
        "id": "exJFCDSMNrEG"
      }
    },
    {
      "cell_type": "code",
      "source": [],
      "metadata": {
        "id": "jVUuPJS9OB_U"
      },
      "execution_count": null,
      "outputs": []
    },
    {
      "cell_type": "markdown",
      "source": [
        "## Model Building"
      ],
      "metadata": {
        "id": "d9_M19L-OLng"
      }
    },
    {
      "cell_type": "code",
      "source": [],
      "metadata": {
        "id": "w0fnV8yNKmYr"
      },
      "execution_count": null,
      "outputs": []
    },
    {
      "cell_type": "markdown",
      "metadata": {
        "id": "kNKUalx8Jcoi"
      },
      "source": [
        "## Model Performance Improvement"
      ]
    },
    {
      "cell_type": "markdown",
      "metadata": {
        "id": "s_oS4D_AXFqX"
      },
      "source": [
        "**Reducing the Learning Rate:**\n",
        "\n",
        "**Hint**: Use **ReduceLRonPlateau()** function that will be used to decrease the learning rate by some factor, if the loss is not decreasing for some time. This may start decreasing the loss at a smaller learning rate. There is a possibility that the loss may still not decrease. This may lead to executing the learning rate reduction again in an attempt to achieve a lower loss."
      ]
    },
    {
      "cell_type": "markdown",
      "metadata": {
        "id": "zU6vqL67bd5a"
      },
      "source": [
        "### **Data Augmentation**\n",
        "\n",
        "Remember, **data augmentation should not be used in the validation/test data set**."
      ]
    },
    {
      "cell_type": "markdown",
      "source": [
        "## Final Model"
      ],
      "metadata": {
        "id": "A5cgkAz_YKcc"
      }
    },
    {
      "cell_type": "markdown",
      "source": [
        "Comment on the final model you have selected and use the same in the below code to visualize the image."
      ],
      "metadata": {
        "id": "F3MjkGfHYOPn"
      }
    },
    {
      "cell_type": "code",
      "source": [],
      "metadata": {
        "id": "IESvQ8UyYLSK"
      },
      "execution_count": null,
      "outputs": []
    },
    {
      "cell_type": "markdown",
      "metadata": {
        "id": "dvDkLMO7YIdY"
      },
      "source": [
        "### Visualizing the prediction"
      ]
    },
    {
      "cell_type": "code",
      "source": [],
      "metadata": {
        "id": "Iez7QKJBrHvE"
      },
      "execution_count": null,
      "outputs": []
    },
    {
      "cell_type": "markdown",
      "source": [
        "## Actionable Insights and Business Recommendations"
      ],
      "metadata": {
        "id": "Eg2x8AyJ4oPR"
      }
    },
    {
      "cell_type": "markdown",
      "source": [
        "*"
      ],
      "metadata": {
        "id": "jvq4_6CZYcrv"
      }
    },
    {
      "cell_type": "markdown",
      "source": [
        "_____"
      ],
      "metadata": {
        "id": "geC4LwwIYfS_"
      }
    }
  ]
}